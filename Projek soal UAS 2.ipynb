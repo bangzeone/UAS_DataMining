{
 "cells": [
  {
   "cell_type": "code",
   "execution_count": 3,
   "metadata": {
    "colab": {
     "base_uri": "https://localhost:8080/"
    },
    "id": "Tu2Ujn61zle3",
    "outputId": "d8230f44-def3-4a02-d5cf-3e089f2ac4a8"
   },
   "outputs": [
    {
     "name": "stdout",
     "output_type": "stream",
     "text": [
      "Requirement already satisfied: apyori in c:\\users\\zero_\\anaconda3\\lib\\site-packages (1.1.2)\n",
      "Note: you may need to restart the kernel to use updated packages.\n"
     ]
    }
   ],
   "source": [
    "pip install apyori\n"
   ]
  },
  {
   "cell_type": "code",
   "execution_count": 13,
   "metadata": {
    "id": "bc-4lrKHykOh"
   },
   "outputs": [],
   "source": [
    "import numpy as np\n",
    "import pandas as pd\n",
    "from apyori import apriori\n",
    "import os\n"
   ]
  },
  {
   "cell_type": "code",
   "execution_count": 15,
   "metadata": {
    "colab": {
     "base_uri": "https://localhost:8080/",
     "height": 206
    },
    "id": "v0SkjB5WzbAD",
    "outputId": "15c0f916-62a6-4040-fad6-cc547ad6bf88"
   },
   "outputs": [
    {
     "ename": "ImportError",
     "evalue": "Pandas requires version '2.0.1' or newer of 'xlrd' (version '1.2.0' currently installed).",
     "output_type": "error",
     "traceback": [
      "\u001b[1;31m---------------------------------------------------------------------------\u001b[0m",
      "\u001b[1;31mImportError\u001b[0m                               Traceback (most recent call last)",
      "Cell \u001b[1;32mIn[15], line 1\u001b[0m\n\u001b[1;32m----> 1\u001b[0m data_store \u001b[38;5;241m=\u001b[39m pd\u001b[38;5;241m.\u001b[39mread_excel(\u001b[38;5;124m'\u001b[39m\u001b[38;5;124mhttps://github.com/ekayuniar/datamining/raw/master/UAS/dataset\u001b[39m\u001b[38;5;132;01m%20s\u001b[39;00m\u001b[38;5;124moal\u001b[39m\u001b[38;5;124m%\u001b[39m\u001b[38;5;124m20no.2.xls\u001b[39m\u001b[38;5;124m'\u001b[39m)\n\u001b[0;32m      2\u001b[0m data_store\u001b[38;5;241m.\u001b[39mtail()\n",
      "File \u001b[1;32m~\\anaconda3\\Lib\\site-packages\\pandas\\io\\excel\\_base.py:504\u001b[0m, in \u001b[0;36mread_excel\u001b[1;34m(io, sheet_name, header, names, index_col, usecols, dtype, engine, converters, true_values, false_values, skiprows, nrows, na_values, keep_default_na, na_filter, verbose, parse_dates, date_parser, date_format, thousands, decimal, comment, skipfooter, storage_options, dtype_backend, engine_kwargs)\u001b[0m\n\u001b[0;32m    502\u001b[0m \u001b[38;5;28;01mif\u001b[39;00m \u001b[38;5;129;01mnot\u001b[39;00m \u001b[38;5;28misinstance\u001b[39m(io, ExcelFile):\n\u001b[0;32m    503\u001b[0m     should_close \u001b[38;5;241m=\u001b[39m \u001b[38;5;28;01mTrue\u001b[39;00m\n\u001b[1;32m--> 504\u001b[0m     io \u001b[38;5;241m=\u001b[39m ExcelFile(\n\u001b[0;32m    505\u001b[0m         io,\n\u001b[0;32m    506\u001b[0m         storage_options\u001b[38;5;241m=\u001b[39mstorage_options,\n\u001b[0;32m    507\u001b[0m         engine\u001b[38;5;241m=\u001b[39mengine,\n\u001b[0;32m    508\u001b[0m         engine_kwargs\u001b[38;5;241m=\u001b[39mengine_kwargs,\n\u001b[0;32m    509\u001b[0m     )\n\u001b[0;32m    510\u001b[0m \u001b[38;5;28;01melif\u001b[39;00m engine \u001b[38;5;129;01mand\u001b[39;00m engine \u001b[38;5;241m!=\u001b[39m io\u001b[38;5;241m.\u001b[39mengine:\n\u001b[0;32m    511\u001b[0m     \u001b[38;5;28;01mraise\u001b[39;00m \u001b[38;5;167;01mValueError\u001b[39;00m(\n\u001b[0;32m    512\u001b[0m         \u001b[38;5;124m\"\u001b[39m\u001b[38;5;124mEngine should not be specified when passing \u001b[39m\u001b[38;5;124m\"\u001b[39m\n\u001b[0;32m    513\u001b[0m         \u001b[38;5;124m\"\u001b[39m\u001b[38;5;124man ExcelFile - ExcelFile already has the engine set\u001b[39m\u001b[38;5;124m\"\u001b[39m\n\u001b[0;32m    514\u001b[0m     )\n",
      "File \u001b[1;32m~\\anaconda3\\Lib\\site-packages\\pandas\\io\\excel\\_base.py:1580\u001b[0m, in \u001b[0;36mExcelFile.__init__\u001b[1;34m(self, path_or_buffer, engine, storage_options, engine_kwargs)\u001b[0m\n\u001b[0;32m   1577\u001b[0m \u001b[38;5;28mself\u001b[39m\u001b[38;5;241m.\u001b[39mengine \u001b[38;5;241m=\u001b[39m engine\n\u001b[0;32m   1578\u001b[0m \u001b[38;5;28mself\u001b[39m\u001b[38;5;241m.\u001b[39mstorage_options \u001b[38;5;241m=\u001b[39m storage_options\n\u001b[1;32m-> 1580\u001b[0m \u001b[38;5;28mself\u001b[39m\u001b[38;5;241m.\u001b[39m_reader \u001b[38;5;241m=\u001b[39m \u001b[38;5;28mself\u001b[39m\u001b[38;5;241m.\u001b[39m_engines[engine](\n\u001b[0;32m   1581\u001b[0m     \u001b[38;5;28mself\u001b[39m\u001b[38;5;241m.\u001b[39m_io,\n\u001b[0;32m   1582\u001b[0m     storage_options\u001b[38;5;241m=\u001b[39mstorage_options,\n\u001b[0;32m   1583\u001b[0m     engine_kwargs\u001b[38;5;241m=\u001b[39mengine_kwargs,\n\u001b[0;32m   1584\u001b[0m )\n",
      "File \u001b[1;32m~\\anaconda3\\Lib\\site-packages\\pandas\\io\\excel\\_xlrd.py:44\u001b[0m, in \u001b[0;36mXlrdReader.__init__\u001b[1;34m(self, filepath_or_buffer, storage_options, engine_kwargs)\u001b[0m\n\u001b[0;32m     32\u001b[0m \u001b[38;5;250m\u001b[39m\u001b[38;5;124;03m\"\"\"\u001b[39;00m\n\u001b[0;32m     33\u001b[0m \u001b[38;5;124;03mReader using xlrd engine.\u001b[39;00m\n\u001b[0;32m     34\u001b[0m \n\u001b[1;32m   (...)\u001b[0m\n\u001b[0;32m     41\u001b[0m \u001b[38;5;124;03m    Arbitrary keyword arguments passed to excel engine.\u001b[39;00m\n\u001b[0;32m     42\u001b[0m \u001b[38;5;124;03m\"\"\"\u001b[39;00m\n\u001b[0;32m     43\u001b[0m err_msg \u001b[38;5;241m=\u001b[39m \u001b[38;5;124m\"\u001b[39m\u001b[38;5;124mInstall xlrd >= 2.0.1 for xls Excel support\u001b[39m\u001b[38;5;124m\"\u001b[39m\n\u001b[1;32m---> 44\u001b[0m import_optional_dependency(\u001b[38;5;124m\"\u001b[39m\u001b[38;5;124mxlrd\u001b[39m\u001b[38;5;124m\"\u001b[39m, extra\u001b[38;5;241m=\u001b[39merr_msg)\n\u001b[0;32m     45\u001b[0m \u001b[38;5;28msuper\u001b[39m()\u001b[38;5;241m.\u001b[39m\u001b[38;5;21m__init__\u001b[39m(\n\u001b[0;32m     46\u001b[0m     filepath_or_buffer,\n\u001b[0;32m     47\u001b[0m     storage_options\u001b[38;5;241m=\u001b[39mstorage_options,\n\u001b[0;32m     48\u001b[0m     engine_kwargs\u001b[38;5;241m=\u001b[39mengine_kwargs,\n\u001b[0;32m     49\u001b[0m )\n",
      "File \u001b[1;32m~\\anaconda3\\Lib\\site-packages\\pandas\\compat\\_optional.py:161\u001b[0m, in \u001b[0;36mimport_optional_dependency\u001b[1;34m(name, extra, errors, min_version)\u001b[0m\n\u001b[0;32m    159\u001b[0m             \u001b[38;5;28;01mreturn\u001b[39;00m \u001b[38;5;28;01mNone\u001b[39;00m\n\u001b[0;32m    160\u001b[0m         \u001b[38;5;28;01melif\u001b[39;00m errors \u001b[38;5;241m==\u001b[39m \u001b[38;5;124m\"\u001b[39m\u001b[38;5;124mraise\u001b[39m\u001b[38;5;124m\"\u001b[39m:\n\u001b[1;32m--> 161\u001b[0m             \u001b[38;5;28;01mraise\u001b[39;00m \u001b[38;5;167;01mImportError\u001b[39;00m(msg)\n\u001b[0;32m    163\u001b[0m \u001b[38;5;28;01mreturn\u001b[39;00m module\n",
      "\u001b[1;31mImportError\u001b[0m: Pandas requires version '2.0.1' or newer of 'xlrd' (version '1.2.0' currently installed)."
     ]
    }
   ],
   "source": [
    "\n",
    "data_store = pd.read_excel('https://github.com/ekayuniar/datamining/raw/master/UAS/dataset%20soal%20no.2.xls')\n",
    "data_store.tail()"
   ]
  },
  {
   "cell_type": "code",
   "execution_count": 17,
   "metadata": {},
   "outputs": [
    {
     "name": "stdout",
     "output_type": "stream",
     "text": [
      "Files in directory: ['dataset soal no.1.xls', 'dataset soal no.1.xlsx', 'dataset soal no.2.xls', 'dataset soal no.2.xlsx', 'dataset soal no.3.xlsx', 'tugas soal ke 9.xlsx', 'UAS_no_1.ipynb', 'UAS_no_2.ipynb', 'UAS_no_3.ipynb']\n"
     ]
    }
   ],
   "source": [
    "dir_path = 'D:\\KULIAH\\SEMESTER 6\\MATKUL DATA MINING\\Data UAS'\n",
    "print(\"Files in directory:\", os.listdir(dir_path))\n"
   ]
  },
  {
   "cell_type": "code",
   "execution_count": 19,
   "metadata": {},
   "outputs": [],
   "source": [
    "import pyexcel as p\n",
    "\n",
    "file_xls = 'D:/KULIAH/SEMESTER 6/MATKUL DATA MINING/Data UAS/dataset soal no.2.xls'\n",
    "file_xlsx = 'D:/KULIAH/SEMESTER 6/MATKUL DATA MINING/Data UAS/dataset soal no.2.xlsx'\n",
    "\n",
    "p.save_book_as(file_name=file_xls, dest_file_name=file_xlsx)\n"
   ]
  },
  {
   "cell_type": "code",
   "execution_count": 21,
   "metadata": {},
   "outputs": [
    {
     "name": "stdout",
     "output_type": "stream",
     "text": [
      "  Barang 1 Barang 2 Barang 3 Barang 4 Barang 5 Barang 6\n",
      "0     Wine    Chips    Bread   Butter     Milk    Apple\n",
      "1     Wine      NaN    Bread   Butter     Milk      NaN\n",
      "2      NaN      NaN    Bread   Butter     Milk      NaN\n",
      "3      NaN    Chips      NaN      NaN      NaN    Apple\n",
      "4     Wine    Chips    Bread   Butter     Milk    Apple\n"
     ]
    }
   ],
   "source": [
    "import pandas as pd\n",
    "\n",
    "file_xlsx = 'D:/KULIAH/SEMESTER 6/MATKUL DATA MINING/Data UAS/dataset soal no.2.xlsx'\n",
    "data = pd.read_excel(file_xlsx, engine='openpyxl')\n",
    "\n",
    "print(data.head())\n"
   ]
  },
  {
   "cell_type": "code",
   "execution_count": 23,
   "metadata": {},
   "outputs": [
    {
     "name": "stdout",
     "output_type": "stream",
     "text": [
      "Shape of data_store: (101, 6)\n"
     ]
    }
   ],
   "source": [
    "import pandas as pd\n",
    "\n",
    "# Pastikan path file sesuai dengan lokasi file Anda\n",
    "file_path = 'D:/KULIAH/SEMESTER 6/MATKUL DATA MINING/Data UAS/dataset soal no.2.xlsx'\n",
    "\n",
    "# Membaca data dari file Excel ke dalam DataFrame\n",
    "try:\n",
    "    data_store = pd.read_excel(file_path)\n",
    "    print(\"Shape of data_store:\", data_store.shape)\n",
    "except FileNotFoundError:\n",
    "    print(f\"File '{file_path}' not found. Please check the file path and try again.\")\n",
    "\n"
   ]
  },
  {
   "cell_type": "code",
   "execution_count": 27,
   "metadata": {
    "colab": {
     "base_uri": "https://localhost:8080/"
    },
    "id": "nM2Vtbl1rPGe",
    "outputId": "ac572c00-9e69-4d3f-9f0e-7a717194bcc6"
   },
   "outputs": [
    {
     "data": {
      "text/plain": [
       "(101, 6)"
      ]
     },
     "execution_count": 27,
     "metadata": {},
     "output_type": "execute_result"
    }
   ],
   "source": [
    "data_store.shape"
   ]
  },
  {
   "cell_type": "code",
   "execution_count": 29,
   "metadata": {
    "id": "1Kvycapx0xcL"
   },
   "outputs": [],
   "source": [
    "records = []\n",
    "for i in range(0, 51):\n",
    "    records.append([str(data_store.values[i,j]) for j in range(0,6)])"
   ]
  },
  {
   "cell_type": "code",
   "execution_count": 31,
   "metadata": {
    "id": "AP4ra9Ny42Fq"
   },
   "outputs": [],
   "source": [
    "association_rules = apriori(records, min_support=0.2, min_confidence=0.6, min_lift=0.2, main_lenght=2)\n",
    "association_results = list(association_rules)"
   ]
  },
  {
   "cell_type": "code",
   "execution_count": 33,
   "metadata": {
    "colab": {
     "base_uri": "https://localhost:8080/"
    },
    "id": "eJOxFEgvsUas",
    "outputId": "bea7da27-ca11-4d77-9249-d1fc80dae4f6"
   },
   "outputs": [
    {
     "name": "stdout",
     "output_type": "stream",
     "text": [
      "102\n"
     ]
    }
   ],
   "source": [
    "print(len(association_results))"
   ]
  },
  {
   "cell_type": "code",
   "execution_count": 35,
   "metadata": {
    "colab": {
     "base_uri": "https://localhost:8080/"
    },
    "id": "LJsptYatsX9P",
    "outputId": "d1a48327-ff38-439d-a51d-e31f00f327e3"
   },
   "outputs": [
    {
     "name": "stdout",
     "output_type": "stream",
     "text": [
      "3\n"
     ]
    }
   ],
   "source": [
    "print(len(association_results[0]))"
   ]
  },
  {
   "cell_type": "code",
   "execution_count": 37,
   "metadata": {
    "colab": {
     "base_uri": "https://localhost:8080/"
    },
    "id": "tRPiX49Isdpi",
    "outputId": "92be2b77-47d2-4afc-d129-09d35a969e0b"
   },
   "outputs": [
    {
     "name": "stdout",
     "output_type": "stream",
     "text": [
      "RelationRecord(items=frozenset({'Apple'}), support=0.8431372549019608, ordered_statistics=[OrderedStatistic(items_base=frozenset(), items_add=frozenset({'Apple'}), confidence=0.8431372549019608, lift=1.0)])\n"
     ]
    }
   ],
   "source": [
    "\n",
    "print(association_results[0])"
   ]
  },
  {
   "cell_type": "code",
   "execution_count": 58,
   "metadata": {
    "colab": {
     "base_uri": "https://localhost:8080/"
    },
    "id": "bpfMypoVsgz1",
    "outputId": "71a84e01-76b2-4601-bede-680240f9c6fb"
   },
   "outputs": [
    {
     "name": "stdout",
     "output_type": "stream",
     "text": [
      "     title1 title2 support confidence    lift\n",
      "0     Apple         0.8431     0.8431     1.0\n",
      "1     Bread         0.7843     0.7843     1.0\n",
      "2    Butter         0.7647     0.7647     1.0\n",
      "3     Chips         0.7058     0.7058     1.0\n",
      "4      Milk         0.8823     0.8823     1.0\n",
      "..      ...    ...     ...        ...     ...\n",
      "97     Milk  Apple  0.2352     0.6666  0.9189\n",
      "98     Milk    nan  0.2156     0.7333  0.9589\n",
      "99    Bread   Milk  0.2745     0.6363  1.0469\n",
      "100   Bread   Milk  0.2549     0.6190  0.9285\n",
      "101   Bread   Milk  0.2352     0.6666  1.0967\n",
      "\n",
      "[102 rows x 5 columns]\n"
     ]
    }
   ],
   "source": [
    "results =[]\n",
    "for item in association_results:\n",
    "    pair = item[0]\n",
    "    items = [x for x in pair]\n",
    "\n",
    "    value0 = str(items[0]) if items else \"\"  # Handle the case where items is empty\n",
    "    value1 = str(items[1]) if len(items) > 1 else \"\"  # Handle the case where items has only one element\n",
    "    value2 = str(item[1])[:6]\n",
    "    value3 = str(item[2][0][2])[:6]\n",
    "    value4 = str(item[2][0][3])[:6]\n",
    "\n",
    "    rows = (value0,value1,value2,value3,value4)\n",
    "\n",
    "    results.append(rows)\n",
    "\n",
    "label = ['title1', 'title2','support','confidence','lift']\n",
    "\n",
    "store_suggestion = pd.DataFrame(results, columns=label)\n",
    "\n",
    "print(store_suggestion)"
   ]
  },
  {
   "cell_type": "code",
   "execution_count": 39,
   "metadata": {
    "colab": {
     "base_uri": "https://localhost:8080/"
    },
    "id": "PZsrF00ftD0r",
    "outputId": "b4372529-aee3-497f-9e3f-5da931a6c24b"
   },
   "outputs": [
    {
     "name": "stdout",
     "output_type": "stream",
     "text": [
      "     title1 title2 support confidence    lift\n",
      "0     Apple         0.8431     0.8431     1.0\n",
      "1     Bread         0.7843     0.7843     1.0\n",
      "2    Butter         0.7647     0.7647     1.0\n",
      "3     Chips         0.7058     0.7058     1.0\n",
      "4      Milk         0.8823     0.8823     1.0\n",
      "..      ...    ...     ...        ...     ...\n",
      "97   Butter  Chips  0.2352     0.6666  0.9189\n",
      "98   Butter  Apple  0.2156     0.7333  0.9589\n",
      "99   Butter  Chips  0.2745     0.6363  1.0469\n",
      "100  Butter   Milk  0.2549     0.6190  0.9285\n",
      "101  Butter  Chips  0.2352     0.6666  1.0967\n",
      "\n",
      "[102 rows x 5 columns]\n"
     ]
    }
   ],
   "source": [
    "results =[]\n",
    "for item in association_results:\n",
    "    pair = item[0]\n",
    "    items = [x for x in pair]\n",
    "\n",
    "    value0 = str(items[0]) if items else \"\"  # Handle cases where items is empty\n",
    "    value1 = str(items[1]) if len(items) > 1 else \"\"  # Handle cases where items has less than two elements\n",
    "    value2 = str(item[1])[:6]\n",
    "    value3 = str(item[2][0][2])[:6]\n",
    "    value4 = str(item[2][0][3])[:6]\n",
    "\n",
    "    rows = (value0,value1,value2,value3,value4)\n",
    "\n",
    "    results.append(rows)\n",
    "\n",
    "label = ['title1', 'title2','support','confidence','lift']  # Moved label outside the loop\n",
    "\n",
    "store_suggestion = pd.DataFrame(results, columns=label)  # Moved DataFrame creation outside the loop\n",
    "\n",
    "print(store_suggestion)"
   ]
  },
  {
   "cell_type": "code",
   "execution_count": 60,
   "metadata": {
    "colab": {
     "base_uri": "https://localhost:8080/"
    },
    "id": "cFAZQenotMAH",
    "outputId": "575be2d6-de66-427c-d0ff-d7748ee456db"
   },
   "outputs": [
    {
     "name": "stdout",
     "output_type": "stream",
     "text": [
      "     title1 title2 support confidence    lift\n",
      "0     Apple         0.8431     0.8431     1.0\n",
      "1     Bread         0.7843     0.7843     1.0\n",
      "2    Butter         0.7647     0.7647     1.0\n",
      "3     Chips         0.7058     0.7058     1.0\n",
      "4      Milk         0.8823     0.8823     1.0\n",
      "..      ...    ...     ...        ...     ...\n",
      "97     Wine   Milk  0.2352     0.6666  0.9189\n",
      "98      nan   Milk  0.2156     0.7333  0.9589\n",
      "99    Bread   Wine  0.2745     0.6363  1.0469\n",
      "100   Bread    nan  0.2549     0.6190  0.9285\n",
      "101   Bread   Wine  0.2352     0.6666  1.0967\n",
      "\n",
      "[102 rows x 5 columns]\n"
     ]
    }
   ],
   "source": [
    "results = []\n",
    "for item in association_results:\n",
    "    pair = item[0]\n",
    "    items = [x for x in pair]\n",
    "\n",
    "    value0 = str(items[0]) if items else \"\"  # Handle cases where items is empty\n",
    "    value1 = str(items[1]) if len(items) > 1 else \"\"  # Handle cases where items has less than two elements\n",
    "    value2 = str(item[1])[:6]\n",
    "    value3 = str(item[2][0][2])[:6]\n",
    "    value4 = str(item[2][0][3])[:6]\n",
    "\n",
    "    rows = (value0, value1, value2, value3, value4)\n",
    "    results.append(rows)\n",
    "\n",
    "label = ['title1', 'title2', 'support', 'confidence', 'lift']\n",
    "\n",
    "store_suggestion = pd.DataFrame(results, columns=label)\n",
    "\n",
    "print(store_suggestion)"
   ]
  },
  {
   "cell_type": "code",
   "execution_count": 41,
   "metadata": {
    "colab": {
     "base_uri": "https://localhost:8080/",
     "height": 175
    },
    "id": "f0RjaR5mtPW3",
    "outputId": "990378cb-d937-4895-a8b6-ff1b3e71fa81"
   },
   "outputs": [
    {
     "data": {
      "text/html": [
       "<div>\n",
       "<style scoped>\n",
       "    .dataframe tbody tr th:only-of-type {\n",
       "        vertical-align: middle;\n",
       "    }\n",
       "\n",
       "    .dataframe tbody tr th {\n",
       "        vertical-align: top;\n",
       "    }\n",
       "\n",
       "    .dataframe thead th {\n",
       "        text-align: right;\n",
       "    }\n",
       "</style>\n",
       "<table border=\"1\" class=\"dataframe\">\n",
       "  <thead>\n",
       "    <tr style=\"text-align: right;\">\n",
       "      <th></th>\n",
       "      <th>title1</th>\n",
       "      <th>title2</th>\n",
       "      <th>support</th>\n",
       "      <th>confidence</th>\n",
       "      <th>lift</th>\n",
       "    </tr>\n",
       "  </thead>\n",
       "  <tbody>\n",
       "    <tr>\n",
       "      <th>count</th>\n",
       "      <td>102</td>\n",
       "      <td>102</td>\n",
       "      <td>102</td>\n",
       "      <td>102</td>\n",
       "      <td>102</td>\n",
       "    </tr>\n",
       "    <tr>\n",
       "      <th>unique</th>\n",
       "      <td>7</td>\n",
       "      <td>8</td>\n",
       "      <td>30</td>\n",
       "      <td>43</td>\n",
       "      <td>63</td>\n",
       "    </tr>\n",
       "    <tr>\n",
       "      <th>top</th>\n",
       "      <td>Apple</td>\n",
       "      <td>Milk</td>\n",
       "      <td>0.4705</td>\n",
       "      <td>0.6666</td>\n",
       "      <td>1.0</td>\n",
       "    </tr>\n",
       "    <tr>\n",
       "      <th>freq</th>\n",
       "      <td>42</td>\n",
       "      <td>19</td>\n",
       "      <td>8</td>\n",
       "      <td>11</td>\n",
       "      <td>24</td>\n",
       "    </tr>\n",
       "  </tbody>\n",
       "</table>\n",
       "</div>"
      ],
      "text/plain": [
       "       title1 title2 support confidence lift\n",
       "count     102    102     102        102  102\n",
       "unique      7      8      30         43   63\n",
       "top     Apple   Milk  0.4705     0.6666  1.0\n",
       "freq       42     19       8         11   24"
      ]
     },
     "execution_count": 41,
     "metadata": {},
     "output_type": "execute_result"
    }
   ],
   "source": [
    "store_suggestion.describe()"
   ]
  },
  {
   "cell_type": "code",
   "execution_count": 45,
   "metadata": {
    "id": "fzFsPvDjtS5q"
   },
   "outputs": [],
   "source": [
    "store_suggestion.to_excel('data_output7.xlsx')"
   ]
  },
  {
   "cell_type": "code",
   "execution_count": 47,
   "metadata": {},
   "outputs": [
    {
     "data": {
      "text/html": [
       "<a href='data_output7.xlsx' target='_blank'>data_output7.xlsx</a><br>"
      ],
      "text/plain": [
       "C:\\Users\\Zero_\\data_output7.xlsx"
      ]
     },
     "execution_count": 47,
     "metadata": {},
     "output_type": "execute_result"
    }
   ],
   "source": [
    "from IPython.display import FileLink\n",
    "\n",
    "# Link untuk mengunduh file\n",
    "FileLink(r'data_output7.xlsx')\n"
   ]
  },
  {
   "cell_type": "code",
   "execution_count": null,
   "metadata": {},
   "outputs": [],
   "source": []
  }
 ],
 "metadata": {
  "colab": {
   "provenance": []
  },
  "kernelspec": {
   "display_name": "Python 3 (ipykernel)",
   "language": "python",
   "name": "python3"
  },
  "language_info": {
   "codemirror_mode": {
    "name": "ipython",
    "version": 3
   },
   "file_extension": ".py",
   "mimetype": "text/x-python",
   "name": "python",
   "nbconvert_exporter": "python",
   "pygments_lexer": "ipython3",
   "version": "3.11.7"
  }
 },
 "nbformat": 4,
 "nbformat_minor": 4
}
