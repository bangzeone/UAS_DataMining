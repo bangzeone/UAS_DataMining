{
 "cells": [
  {
   "cell_type": "markdown",
   "metadata": {
    "id": "5fr9kDBhPdEx"
   },
   "source": [
    "Impoer Tool yang akan di gunakan"
   ]
  },
  {
   "cell_type": "code",
   "execution_count": 121,
   "metadata": {
    "id": "oRYNaOh8OYmg"
   },
   "outputs": [],
   "source": [
    "import pandas as pd\n",
    "from sklearn.neighbors import KNeighborsRegressor\n",
    "import numpy as np\n",
    "from sklearn.preprocessing import StandardScaler\n",
    "import matplotlib.pyplot as plt\n",
    "from pathlib import Path\n",
    "import os"
   ]
  },
  {
   "cell_type": "code",
   "execution_count": 123,
   "metadata": {},
   "outputs": [
    {
     "name": "stdout",
     "output_type": "stream",
     "text": [
      "Files in directory: ['dataset soal no.1.xls', 'dataset soal no.1.xlsx', 'dataset soal no.2.xls', 'dataset soal no.2.xlsx', 'dataset soal no.3.xlsx', 'tugas soal ke 9.xlsx', 'UAS_no_1.ipynb', 'UAS_no_2.ipynb', 'UAS_no_3.ipynb']\n"
     ]
    }
   ],
   "source": [
    "dir_path = 'D:\\KULIAH\\SEMESTER 6\\MATKUL DATA MINING\\Data UAS'\n",
    "print(\"Files in directory:\", os.listdir(dir_path))"
   ]
  },
  {
   "cell_type": "markdown",
   "metadata": {
    "id": "hBu2XMzOPhLO"
   },
   "source": [
    "Ambil Dataset"
   ]
  },
  {
   "cell_type": "code",
   "execution_count": 125,
   "metadata": {},
   "outputs": [],
   "source": [
    "import pyexcel as p\n",
    "\n",
    "file_xls = 'D:/KULIAH/SEMESTER 6/MATKUL DATA MINING/Data UAS/dataset soal no.1.xls'\n",
    "file_xlsx = 'D:/KULIAH/SEMESTER 6/MATKUL DATA MINING/Data UAS/dataset soal no.1.xlsx'\n",
    "\n",
    "p.save_book_as(file_name=file_xls, dest_file_name=file_xlsx)\n",
    "\n"
   ]
  },
  {
   "cell_type": "code",
   "execution_count": 127,
   "metadata": {},
   "outputs": [
    {
     "name": "stdout",
     "output_type": "stream",
     "text": [
      "   Kategori  Weather  Holiday  Game  Qty\n",
      "0         1        5        1     0  300\n",
      "1         2        3        1     1  225\n",
      "2         3        1        1     0   75\n",
      "3         4        4        0     1  200\n",
      "4         5        4        0     0  150\n"
     ]
    }
   ],
   "source": [
    "import pandas as pd\n",
    "\n",
    "file_xlsx = 'D:/KULIAH/SEMESTER 6/MATKUL DATA MINING/Data UAS/dataset soal no.1.xlsx'\n",
    "data = pd.read_excel(file_xlsx, engine='openpyxl')\n",
    "\n",
    "print(data.head())\n"
   ]
  },
  {
   "cell_type": "code",
   "execution_count": 129,
   "metadata": {},
   "outputs": [
    {
     "name": "stdout",
     "output_type": "stream",
     "text": [
      "   Kategori  Weather  Holiday  Game  Qty\n",
      "0         1        5        1     0  300\n",
      "1         2        3        1     1  225\n",
      "2         3        1        1     0   75\n",
      "3         4        4        0     1  200\n",
      "4         5        4        0     0  150\n"
     ]
    }
   ],
   "source": [
    "import pandas as pd\n",
    "\n",
    "# Ganti path dengan lokasi file Excel yang sesuai\n",
    "file_path = 'D:/KULIAH/SEMESTER 6/MATKUL DATA MINING/Data UAS/dataset soal no.1.xlsx'\n",
    "\n",
    "# Baca file Excel ke dalam DataFrame\n",
    "df_new = pd.read_excel(file_path, engine='openpyxl')\n",
    "\n",
    "# Tampilkan beberapa baris pertama untuk verifikasi\n",
    "print(df_new.head())\n"
   ]
  },
  {
   "cell_type": "markdown",
   "metadata": {
    "id": "2jCmAubNPoJX"
   },
   "source": [
    "tentukan target"
   ]
  },
  {
   "cell_type": "code",
   "execution_count": 131,
   "metadata": {
    "id": "9B98FY8sQXZZ"
   },
   "outputs": [
    {
     "name": "stdout",
     "output_type": "stream",
     "text": [
      "Fitur (X):\n",
      "   Weather  Holiday  Game\n",
      "0        5        1     0\n",
      "1        3        1     1\n",
      "2        1        1     0\n",
      "3        4        0     1\n",
      "4        4        0     0\n",
      "\n",
      "Target (y):\n",
      "0    300\n",
      "1    225\n",
      "2     75\n",
      "3    200\n",
      "4    150\n",
      "Name: Qty, dtype: int64\n"
     ]
    }
   ],
   "source": [
    "# Memisahkan fitur dan target\n",
    "X = df_new[['Weather', 'Holiday', 'Game']]\n",
    "y = df_new['Qty']\n",
    "\n",
    "# Tampilkan beberapa baris pertama untuk verifikasi\n",
    "print(\"Fitur (X):\")\n",
    "print(X.head())\n",
    "print(\"\\nTarget (y):\")\n",
    "print(y.head())\n"
   ]
  },
  {
   "cell_type": "markdown",
   "metadata": {
    "id": "OfEW6Q9QPty3"
   },
   "source": [
    "pembuatan model knn"
   ]
  },
  {
   "cell_type": "code",
   "execution_count": 133,
   "metadata": {
    "colab": {
     "base_uri": "https://localhost:8080/",
     "height": 75
    },
    "id": "ymeVY3xjOW_C",
    "outputId": "ca3d8f54-c3f2-4cea-fd74-e410b558132c"
   },
   "outputs": [
    {
     "data": {
      "text/html": [
       "<style>#sk-container-id-3 {color: black;background-color: white;}#sk-container-id-3 pre{padding: 0;}#sk-container-id-3 div.sk-toggleable {background-color: white;}#sk-container-id-3 label.sk-toggleable__label {cursor: pointer;display: block;width: 100%;margin-bottom: 0;padding: 0.3em;box-sizing: border-box;text-align: center;}#sk-container-id-3 label.sk-toggleable__label-arrow:before {content: \"▸\";float: left;margin-right: 0.25em;color: #696969;}#sk-container-id-3 label.sk-toggleable__label-arrow:hover:before {color: black;}#sk-container-id-3 div.sk-estimator:hover label.sk-toggleable__label-arrow:before {color: black;}#sk-container-id-3 div.sk-toggleable__content {max-height: 0;max-width: 0;overflow: hidden;text-align: left;background-color: #f0f8ff;}#sk-container-id-3 div.sk-toggleable__content pre {margin: 0.2em;color: black;border-radius: 0.25em;background-color: #f0f8ff;}#sk-container-id-3 input.sk-toggleable__control:checked~div.sk-toggleable__content {max-height: 200px;max-width: 100%;overflow: auto;}#sk-container-id-3 input.sk-toggleable__control:checked~label.sk-toggleable__label-arrow:before {content: \"▾\";}#sk-container-id-3 div.sk-estimator input.sk-toggleable__control:checked~label.sk-toggleable__label {background-color: #d4ebff;}#sk-container-id-3 div.sk-label input.sk-toggleable__control:checked~label.sk-toggleable__label {background-color: #d4ebff;}#sk-container-id-3 input.sk-hidden--visually {border: 0;clip: rect(1px 1px 1px 1px);clip: rect(1px, 1px, 1px, 1px);height: 1px;margin: -1px;overflow: hidden;padding: 0;position: absolute;width: 1px;}#sk-container-id-3 div.sk-estimator {font-family: monospace;background-color: #f0f8ff;border: 1px dotted black;border-radius: 0.25em;box-sizing: border-box;margin-bottom: 0.5em;}#sk-container-id-3 div.sk-estimator:hover {background-color: #d4ebff;}#sk-container-id-3 div.sk-parallel-item::after {content: \"\";width: 100%;border-bottom: 1px solid gray;flex-grow: 1;}#sk-container-id-3 div.sk-label:hover label.sk-toggleable__label {background-color: #d4ebff;}#sk-container-id-3 div.sk-serial::before {content: \"\";position: absolute;border-left: 1px solid gray;box-sizing: border-box;top: 0;bottom: 0;left: 50%;z-index: 0;}#sk-container-id-3 div.sk-serial {display: flex;flex-direction: column;align-items: center;background-color: white;padding-right: 0.2em;padding-left: 0.2em;position: relative;}#sk-container-id-3 div.sk-item {position: relative;z-index: 1;}#sk-container-id-3 div.sk-parallel {display: flex;align-items: stretch;justify-content: center;background-color: white;position: relative;}#sk-container-id-3 div.sk-item::before, #sk-container-id-3 div.sk-parallel-item::before {content: \"\";position: absolute;border-left: 1px solid gray;box-sizing: border-box;top: 0;bottom: 0;left: 50%;z-index: -1;}#sk-container-id-3 div.sk-parallel-item {display: flex;flex-direction: column;z-index: 1;position: relative;background-color: white;}#sk-container-id-3 div.sk-parallel-item:first-child::after {align-self: flex-end;width: 50%;}#sk-container-id-3 div.sk-parallel-item:last-child::after {align-self: flex-start;width: 50%;}#sk-container-id-3 div.sk-parallel-item:only-child::after {width: 0;}#sk-container-id-3 div.sk-dashed-wrapped {border: 1px dashed gray;margin: 0 0.4em 0.5em 0.4em;box-sizing: border-box;padding-bottom: 0.4em;background-color: white;}#sk-container-id-3 div.sk-label label {font-family: monospace;font-weight: bold;display: inline-block;line-height: 1.2em;}#sk-container-id-3 div.sk-label-container {text-align: center;}#sk-container-id-3 div.sk-container {/* jupyter's `normalize.less` sets `[hidden] { display: none; }` but bootstrap.min.css set `[hidden] { display: none !important; }` so we also need the `!important` here to be able to override the default hidden behavior on the sphinx rendered scikit-learn.org. See: https://github.com/scikit-learn/scikit-learn/issues/21755 */display: inline-block !important;position: relative;}#sk-container-id-3 div.sk-text-repr-fallback {display: none;}</style><div id=\"sk-container-id-3\" class=\"sk-top-container\"><div class=\"sk-text-repr-fallback\"><pre>KNeighborsRegressor(n_neighbors=3)</pre><b>In a Jupyter environment, please rerun this cell to show the HTML representation or trust the notebook. <br />On GitHub, the HTML representation is unable to render, please try loading this page with nbviewer.org.</b></div><div class=\"sk-container\" hidden><div class=\"sk-item\"><div class=\"sk-estimator sk-toggleable\"><input class=\"sk-toggleable__control sk-hidden--visually\" id=\"sk-estimator-id-3\" type=\"checkbox\" checked><label for=\"sk-estimator-id-3\" class=\"sk-toggleable__label sk-toggleable__label-arrow\">KNeighborsRegressor</label><div class=\"sk-toggleable__content\"><pre>KNeighborsRegressor(n_neighbors=3)</pre></div></div></div></div></div>"
      ],
      "text/plain": [
       "KNeighborsRegressor(n_neighbors=3)"
      ]
     },
     "execution_count": 133,
     "metadata": {},
     "output_type": "execute_result"
    }
   ],
   "source": [
    "knn = KNeighborsRegressor(n_neighbors=3)\n",
    "knn.fit(X, y)\n"
   ]
  },
  {
   "cell_type": "markdown",
   "metadata": {
    "id": "iijCnSrUPzm3"
   },
   "source": [
    "perhitungan knn\n"
   ]
  },
  {
   "cell_type": "code",
   "execution_count": 135,
   "metadata": {
    "colab": {
     "base_uri": "https://localhost:8080/"
    },
    "id": "id-sGFlCP2HF",
    "outputId": "422b0ef9-1d92-4e3f-ac0c-69b20766e6e7"
   },
   "outputs": [
    {
     "name": "stdout",
     "output_type": "stream",
     "text": [
      "Prediction for condition a (Weather=1, Holiday=0, Game=0): 116.66666666666667\n",
      "Prediction for condition b (Weather=4, Holiday=1, Game=1): 241.66666666666666\n"
     ]
    },
    {
     "name": "stderr",
     "output_type": "stream",
     "text": [
      "C:\\Users\\Zero_\\anaconda3\\Lib\\site-packages\\sklearn\\base.py:439: UserWarning: X does not have valid feature names, but KNeighborsRegressor was fitted with feature names\n",
      "  warnings.warn(\n",
      "C:\\Users\\Zero_\\anaconda3\\Lib\\site-packages\\sklearn\\base.py:439: UserWarning: X does not have valid feature names, but KNeighborsRegressor was fitted with feature names\n",
      "  warnings.warn(\n"
     ]
    }
   ],
   "source": [
    "condition_a = np.array([[1, 0, 0]])\n",
    "pred_a = knn.predict(condition_a)\n",
    "\n",
    "\n",
    "condition_b = np.array([[4, 1, 1]])\n",
    "pred_b = knn.predict(condition_b)\n",
    "\n",
    "\n",
    "print(f\"Prediction for condition a (Weather=1, Holiday=0, Game=0): {pred_a[0]}\")\n",
    "print(f\"Prediction for condition b (Weather=4, Holiday=1, Game=1): {pred_b[0]}\")"
   ]
  },
  {
   "cell_type": "code",
   "execution_count": null,
   "metadata": {},
   "outputs": [],
   "source": []
  }
 ],
 "metadata": {
  "colab": {
   "provenance": []
  },
  "kernelspec": {
   "display_name": "Python 3 (ipykernel)",
   "language": "python",
   "name": "python3"
  },
  "language_info": {
   "codemirror_mode": {
    "name": "ipython",
    "version": 3
   },
   "file_extension": ".py",
   "mimetype": "text/x-python",
   "name": "python",
   "nbconvert_exporter": "python",
   "pygments_lexer": "ipython3",
   "version": "3.11.7"
  }
 },
 "nbformat": 4,
 "nbformat_minor": 4
}
